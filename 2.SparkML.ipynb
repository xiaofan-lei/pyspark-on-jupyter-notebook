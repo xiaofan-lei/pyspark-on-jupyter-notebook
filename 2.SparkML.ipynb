{
 "cells": [
  {
   "cell_type": "markdown",
   "id": "b154d37b",
   "metadata": {},
   "source": [
    "# SPARK ML"
   ]
  },
  {
   "cell_type": "markdown",
   "id": "9c5cd524",
   "metadata": {},
   "source": [
    "## 1. Import spark and ML libraries"
   ]
  },
  {
   "cell_type": "code",
   "execution_count": 43,
   "id": "ef947c62",
   "metadata": {},
   "outputs": [
    {
     "data": {
      "text/plain": [
       "'C:\\\\Program Files\\\\spark-3.3.0-bin-hadoop3\\\\'"
      ]
     },
     "execution_count": 43,
     "metadata": {},
     "output_type": "execute_result"
    }
   ],
   "source": [
    "import findspark\n",
    "findspark.init()\n",
    "findspark.find()\n",
    "import pyspark\n",
    "findspark.find()"
   ]
  },
  {
   "cell_type": "code",
   "execution_count": null,
   "id": "f574780b",
   "metadata": {},
   "outputs": [],
   "source": [
    "#sc.stop()"
   ]
  },
  {
   "cell_type": "code",
   "execution_count": 44,
   "id": "ede00785",
   "metadata": {},
   "outputs": [],
   "source": [
    "from pyspark import SparkContext\n",
    "from pyspark.sql import SparkSession\n",
    "\n",
    "sc = SparkContext()\n",
    "spark = SparkSession.builder.getOrCreate()"
   ]
  },
  {
   "cell_type": "code",
   "execution_count": 45,
   "id": "ee21938d",
   "metadata": {},
   "outputs": [],
   "source": [
    "from pyspark.ml.classification import NaiveBayes\n",
    "from pyspark.ml.evaluation import MulticlassClassificationEvaluator\n",
    "from pyspark.ml.feature import CountVectorizer, StringIndexer\n",
    "from pyspark.sql import Row"
   ]
  },
  {
   "cell_type": "markdown",
   "id": "3824acce",
   "metadata": {},
   "source": [
    "## 2. Load training and test datasets"
   ]
  },
  {
   "cell_type": "code",
   "execution_count": 46,
   "id": "f17cfad6",
   "metadata": {},
   "outputs": [],
   "source": [
    "from pyspark.sql import Row\n",
    "\n",
    "def load_dataframe(path):\n",
    "    rdd = sc.textFile(path)\\\n",
    "        .map(lambda line: line.split())\\\n",
    "        .map(lambda words: Row(label=words[0], words=words[1:]))\n",
    "    return spark.createDataFrame(rdd)\n",
    "\n",
    "# Load train and test data\n",
    "train_data = load_dataframe(\"20ng-train-all-terms.txt\")\n",
    "test_data = load_dataframe(\"20ng-test-all-terms.txt\")"
   ]
  },
  {
   "cell_type": "markdown",
   "id": "7daad48b",
   "metadata": {},
   "source": [
    "## 3. Vectorization"
   ]
  },
  {
   "cell_type": "code",
   "execution_count": 47,
   "id": "5ab5259a",
   "metadata": {},
   "outputs": [],
   "source": [
    "# Learn the vocabulary of our training data\n",
    "vectorizer = CountVectorizer(inputCol=\"words\", outputCol=\"bag_of_words\")\n",
    "vectorizer_transformer = vectorizer.fit(train_data)"
   ]
  },
  {
   "cell_type": "code",
   "execution_count": 48,
   "id": "f86000bc",
   "metadata": {},
   "outputs": [],
   "source": [
    "# Create bags of words for train and test data\n",
    "train_bag_of_words = vectorizer_transformer.transform(train_data)\n",
    "test_bag_of_words = vectorizer_transformer.transform(test_data)"
   ]
  },
  {
   "cell_type": "code",
   "execution_count": 49,
   "id": "ce04ba21",
   "metadata": {},
   "outputs": [],
   "source": [
    "# Convert string labels to floats\n",
    "label_indexer = StringIndexer(inputCol=\"label\", outputCol=\"label_index\")\n",
    "label_indexer_transformer = label_indexer.fit(train_bag_of_words)\n",
    "train_bag_of_words = label_indexer_transformer.transform(train_bag_of_words)\n",
    "test_bag_of_words = label_indexer_transformer.transform(test_bag_of_words)"
   ]
  },
  {
   "cell_type": "markdown",
   "id": "d980cc76",
   "metadata": {},
   "source": [
    "## 4. Trainning"
   ]
  },
  {
   "cell_type": "code",
   "execution_count": 50,
   "id": "9383be40",
   "metadata": {},
   "outputs": [],
   "source": [
    "# Learn multiclass classifier on training data\n",
    "classifier = NaiveBayes(\n",
    "    labelCol=\"label_index\", featuresCol=\"bag_of_words\", predictionCol=\"label_index_predicted\"\n",
    ")\n",
    "classifier_transformer = classifier.fit(train_bag_of_words)\n",
    "\n"
   ]
  },
  {
   "cell_type": "markdown",
   "id": "a7bc263b",
   "metadata": {},
   "source": [
    "## 5. Prediction and evaluation"
   ]
  },
  {
   "cell_type": "code",
   "execution_count": 51,
   "id": "a7add05b",
   "metadata": {},
   "outputs": [],
   "source": [
    "# Predict labels on test data\n",
    "test_predicted = classifier_transformer.transform(test_bag_of_words)"
   ]
  },
  {
   "cell_type": "code",
   "execution_count": 52,
   "id": "7fb14a21",
   "metadata": {},
   "outputs": [
    {
     "name": "stdout",
     "output_type": "stream",
     "text": [
      "Accuracy = 0.80\n"
     ]
    }
   ],
   "source": [
    "# Classifier evaluation\n",
    "evaluator = MulticlassClassificationEvaluator(\n",
    "    labelCol=\"label_index\", predictionCol=\"label_index_predicted\", metricName=\"accuracy\"\n",
    ")\n",
    "accuracy = evaluator.evaluate(test_predicted)\n",
    "print(\"Accuracy = {:.2f}\".format(accuracy))"
   ]
  },
  {
   "cell_type": "markdown",
   "id": "cbe912d3",
   "metadata": {},
   "source": [
    "## 6. work with a pipline"
   ]
  },
  {
   "cell_type": "code",
   "execution_count": 29,
   "id": "e838e183",
   "metadata": {},
   "outputs": [],
   "source": [
    "from pyspark.ml import Pipeline"
   ]
  },
  {
   "cell_type": "code",
   "execution_count": 30,
   "id": "8db4e0a8",
   "metadata": {},
   "outputs": [],
   "source": [
    "vectorizer = CountVectorizer(inputCol=\"words\", outputCol=\"bag_of_words\")\n",
    "label_indexer = StringIndexer(inputCol=\"label\", outputCol=\"label_index\")\n",
    "classifier = NaiveBayes(\n",
    "    labelCol=\"label_index\", featuresCol=\"bag_of_words\", predictionCol=\"label_index_predicted\",\n",
    ")\n",
    "pipeline = Pipeline(stages=[vectorizer, label_indexer, classifier])\n",
    "pipeline_model = pipeline.fit(train_data)\n",
    "\n",
    "test_predicted = pipeline_model.transform(test_data)"
   ]
  },
  {
   "cell_type": "code",
   "execution_count": 31,
   "id": "b7aaeacd",
   "metadata": {},
   "outputs": [
    {
     "name": "stdout",
     "output_type": "stream",
     "text": [
      "Accuracy = 0.80\n"
     ]
    }
   ],
   "source": [
    "accuracy = evaluator.evaluate(test_predicted)\n",
    "print(\"Accuracy = {:.2f}\".format(accuracy))"
   ]
  },
  {
   "cell_type": "code",
   "execution_count": null,
   "id": "9f237bf4",
   "metadata": {},
   "outputs": [],
   "source": []
  }
 ],
 "metadata": {
  "kernelspec": {
   "display_name": "Python 3 (ipykernel)",
   "language": "python",
   "name": "python3"
  },
  "language_info": {
   "codemirror_mode": {
    "name": "ipython",
    "version": 3
   },
   "file_extension": ".py",
   "mimetype": "text/x-python",
   "name": "python",
   "nbconvert_exporter": "python",
   "pygments_lexer": "ipython3",
   "version": "3.9.12"
  }
 },
 "nbformat": 4,
 "nbformat_minor": 5
}
