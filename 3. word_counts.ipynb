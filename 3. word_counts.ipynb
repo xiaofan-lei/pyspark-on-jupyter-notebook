{
 "cells": [
  {
   "cell_type": "markdown",
   "id": "b154d37b",
   "metadata": {},
   "source": [
    "# spark - word counts"
   ]
  },
  {
   "cell_type": "markdown",
   "id": "a53f591a",
   "metadata": {},
   "source": [
    "## 1. set up a spark application"
   ]
  },
  {
   "cell_type": "code",
   "execution_count": 18,
   "id": "96b67d9c",
   "metadata": {},
   "outputs": [
    {
     "data": {
      "text/plain": [
       "'C:\\\\Program Files\\\\spark-3.3.0-bin-hadoop3\\\\'"
      ]
     },
     "execution_count": 18,
     "metadata": {},
     "output_type": "execute_result"
    }
   ],
   "source": [
    "import findspark\n",
    "findspark.init()\n",
    "findspark.find()\n",
    "import pyspark\n",
    "findspark.find()"
   ]
  },
  {
   "cell_type": "code",
   "execution_count": 20,
   "id": "14dd27e6",
   "metadata": {},
   "outputs": [],
   "source": [
    "from pyspark import SparkContext\n",
    "import nltk\n",
    "#nltk.download('stopwords')\n",
    "\n",
    "#sc.stop()\n",
    "conf = pyspark.SparkConf().setAppName('word_comparison').setMaster('local[4]')\n",
    "sc = pyspark.SparkContext(conf=conf)"
   ]
  },
  {
   "cell_type": "markdown",
   "id": "1af96b9f",
   "metadata": {},
   "source": [
    " ## 2. Load data"
   ]
  },
  {
   "cell_type": "code",
   "execution_count": 21,
   "id": "0a12d2c5",
   "metadata": {},
   "outputs": [],
   "source": [
    "def filter_stop_words(word):\n",
    "    from nltk.corpus import stopwords\n",
    "    english_stop_words = stopwords.words(\"english\")\n",
    "    return word not in english_stop_words\n",
    "\n",
    "def load_text(text_path):\n",
    "    # Split text in words\n",
    "    # Remove empty word artefacts\n",
    "    # Remove stop words ('I', 'you', 'a', 'the', ...)\n",
    "    vocabulary = sc.textFile(text_path, minPartitions=4)\\\n",
    "        .flatMap(lambda lines: lines.lower().split())\\\n",
    "        .flatMap(lambda word: word.split(\".\"))\\\n",
    "        .flatMap(lambda word: word.split(\",\"))\\\n",
    "        .flatMap(lambda word: word.split(\"!\"))\\\n",
    "        .flatMap(lambda word: word.split(\"?\"))\\\n",
    "        .flatMap(lambda word: word.split(\"'\"))\\\n",
    "        .flatMap(lambda word: word.split(\"\\\"\"))\\\n",
    "        .filter(lambda word: word is not None and len(word) > 0)\\\n",
    "        .filter(filter_stop_words)\n",
    "\n",
    "    # Count the total number of words in the text\n",
    "    word_count = vocabulary.count()\n",
    "\n",
    "    # Compute the frequency of each word: frequency = #appearances/#word_count\n",
    "    word_freq = vocabulary.map(lambda word: (word, 1))\\\n",
    "        .reduceByKey(lambda count1, count2: count1 + count2)\\\n",
    "        .map(lambda word : (word[0], word[1]/float(word_count)))\\\n",
    "\n",
    "    return word_freq\n",
    "\n",
    "#load text files\n",
    "iliad = load_text('iliad.mb.txt')\n",
    "odyssey = load_text('odyssey.mb.txt')"
   ]
  },
  {
   "cell_type": "markdown",
   "id": "2c8696dc",
   "metadata": {},
   "source": [
    "## 3. counting"
   ]
  },
  {
   "cell_type": "code",
   "execution_count": 22,
   "id": "5072b210",
   "metadata": {},
   "outputs": [
    {
     "data": {
      "text/plain": [
       "11824"
      ]
     },
     "execution_count": 22,
     "metadata": {},
     "output_type": "execute_result"
    }
   ],
   "source": [
    "# Join the two datasets and compute the difference in frequency\n",
    "# Note that we need to write (freq or 0) because some words do not appear\n",
    "# in one of the two books. Thus, some frequencies are equal to None after\n",
    "# the full outer join.\n",
    "join_words = iliad.fullOuterJoin(odyssey)\\\n",
    "    .map(lambda x : (x[0], (x[1][1] or 0) - (x[1][0] or 0))) \n",
    "#x[0] : word\n",
    "#x[1][0] : iliad word frequency\n",
    "#x[1][1] : odyssey word frequency\n",
    "join_words.count()"
   ]
  },
  {
   "cell_type": "code",
   "execution_count": 23,
   "id": "4418f8f4",
   "metadata": {},
   "outputs": [
    {
     "data": {
      "text/plain": [
       "[('classics', 1.0272212176025145e-05),\n",
       " ('translated', 5.136106088012572e-06),\n",
       " ('book', 0.00012326654611230172)]"
      ]
     },
     "execution_count": 23,
     "metadata": {},
     "output_type": "execute_result"
    }
   ],
   "source": [
    "join_words.take(3)"
   ]
  },
  {
   "cell_type": "code",
   "execution_count": 24,
   "id": "376eb284",
   "metadata": {},
   "outputs": [],
   "source": [
    "#x[0] : word\n",
    "#x[1] : difference of word frequencies\n",
    "# 10 words that get a boost in frequency in the sequel\n",
    "emerging_words = join_words.takeOrdered(10, lambda x: -x[1])\n",
    "# 10 words that get a decrease in frequency in the sequel\n",
    "disappearing_words = join_words.takeOrdered(10, lambda x: x[1])"
   ]
  },
  {
   "cell_type": "code",
   "execution_count": 25,
   "id": "ce6dcd67",
   "metadata": {},
   "outputs": [
    {
     "name": "stdout",
     "output_type": "stream",
     "text": [
      "92.52 ulysses\n",
      "53.63 house\n",
      "48.33 telemachus\n",
      "43.06 suitors\n",
      "36.68 tell\n",
      "33.47 ship\n",
      "33.35 one\n",
      "31.94 home\n",
      "26.73 said\n",
      "25.97 got\n"
     ]
    }
   ],
   "source": [
    "#top 10 commun words of these two books\n",
    "for word, freq_diff in emerging_words:\n",
    "    print(\"%.2f\" % (freq_diff*10000), word)"
   ]
  },
  {
   "cell_type": "code",
   "execution_count": 26,
   "id": "d2262341",
   "metadata": {},
   "outputs": [
    {
     "name": "stdout",
     "output_type": "stream",
     "text": [
      "-28.72 jove\n",
      "-31.46 horses\n",
      "-40.66 fight\n",
      "-44.56 spear\n",
      "-47.24 ships\n",
      "-54.71 achilles\n",
      "-61.74 achaeans\n",
      "-65.52 hector\n",
      "-72.71 trojans\n",
      "-89.71 son\n"
     ]
    }
   ],
   "source": [
    "#top 10 words present in iliad but not in odyssey\n",
    "for word, freq_diff in disappearing_words[::-1]:\n",
    "    print(\"%.2f\" % (freq_diff*10000), word)"
   ]
  },
  {
   "cell_type": "code",
   "execution_count": null,
   "id": "4017be19",
   "metadata": {},
   "outputs": [],
   "source": []
  }
 ],
 "metadata": {
  "kernelspec": {
   "display_name": "Python 3 (ipykernel)",
   "language": "python",
   "name": "python3"
  },
  "language_info": {
   "codemirror_mode": {
    "name": "ipython",
    "version": 3
   },
   "file_extension": ".py",
   "mimetype": "text/x-python",
   "name": "python",
   "nbconvert_exporter": "python",
   "pygments_lexer": "ipython3",
   "version": "3.9.12"
  }
 },
 "nbformat": 4,
 "nbformat_minor": 5
}
