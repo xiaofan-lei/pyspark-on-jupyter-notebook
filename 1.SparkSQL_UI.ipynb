{
 "cells": [
  {
   "cell_type": "markdown",
   "id": "b154d37b",
   "metadata": {},
   "source": [
    "# SPARK SQL et WEB UI"
   ]
  },
  {
   "cell_type": "markdown",
   "id": "6433b051",
   "metadata": {},
   "source": [
    "## 1. Launch a spark session"
   ]
  },
  {
   "cell_type": "code",
   "execution_count": 27,
   "id": "ef947c62",
   "metadata": {},
   "outputs": [
    {
     "data": {
      "text/plain": [
       "'C:\\\\Program Files\\\\spark-3.3.0-bin-hadoop3\\\\'"
      ]
     },
     "execution_count": 27,
     "metadata": {},
     "output_type": "execute_result"
    }
   ],
   "source": [
    "import findspark\n",
    "findspark.init()\n",
    "findspark.find()\n",
    "import pyspark\n",
    "findspark.find()"
   ]
  },
  {
   "cell_type": "code",
   "execution_count": 28,
   "id": "ede00785",
   "metadata": {},
   "outputs": [],
   "source": [
    "from pyspark import SparkContext\n",
    "from pyspark.sql import SparkSession\n",
    "sc.stop()\n",
    "sc = SparkContext()\n",
    "spark = SparkSession.builder.getOrCreate()"
   ]
  },
  {
   "cell_type": "markdown",
   "id": "c9120671",
   "metadata": {},
   "source": [
    "## 2. Load data"
   ]
  },
  {
   "cell_type": "code",
   "execution_count": 29,
   "id": "ad60cdd7",
   "metadata": {},
   "outputs": [
    {
     "data": {
      "text/plain": [
       "DataFrame[country_name: string, id: bigint, latitude: double, longitude: double, sex: string]"
      ]
     },
     "execution_count": 29,
     "metadata": {},
     "output_type": "execute_result"
    }
   ],
   "source": [
    "agents = spark.read.json(\"data/agents.json\")\n",
    "agents"
   ]
  },
  {
   "cell_type": "markdown",
   "id": "4e3044ac",
   "metadata": {},
   "source": [
    "## 3. Transformation"
   ]
  },
  {
   "cell_type": "code",
   "execution_count": 18,
   "id": "d9965e9f",
   "metadata": {},
   "outputs": [
    {
     "data": {
      "text/plain": [
       "DataFrame[country_name: string, id: bigint, latitude: double, longitude: double, sex: string]"
      ]
     },
     "execution_count": 18,
     "metadata": {},
     "output_type": "execute_result"
    }
   ],
   "source": [
    "french_agents = agents.filter(agents.country_name == \"France\")\n",
    "french_agents"
   ]
  },
  {
   "cell_type": "markdown",
   "id": "da7ab62a",
   "metadata": {},
   "source": [
    "## 4. Actions"
   ]
  },
  {
   "cell_type": "code",
   "execution_count": 19,
   "id": "bc580b7e",
   "metadata": {},
   "outputs": [
    {
     "data": {
      "text/plain": [
       "94"
      ]
     },
     "execution_count": 19,
     "metadata": {},
     "output_type": "execute_result"
    }
   ],
   "source": [
    "french_agents.count()\n"
   ]
  },
  {
   "cell_type": "code",
   "execution_count": 20,
   "id": "0b36be89",
   "metadata": {},
   "outputs": [
    {
     "data": {
      "text/plain": [
       "Row(country_name='France', id=5130782577, latitude=-0.21142875508479517, longitude=-0.003950214433749498, sex='Female')"
      ]
     },
     "execution_count": 20,
     "metadata": {},
     "output_type": "execute_result"
    }
   ],
   "source": [
    "french_agents.first()"
   ]
  },
  {
   "cell_type": "code",
   "execution_count": 21,
   "id": "b1a0c49c",
   "metadata": {},
   "outputs": [
    {
     "data": {
      "text/plain": [
       "41"
      ]
     },
     "execution_count": 21,
     "metadata": {},
     "output_type": "execute_result"
    }
   ],
   "source": [
    "agents.filter(agents.country_name == \"France\").filter(agents.latitude < 0).count()"
   ]
  },
  {
   "cell_type": "code",
   "execution_count": 22,
   "id": "f93da152",
   "metadata": {},
   "outputs": [
    {
     "name": "stdout",
     "output_type": "stream",
     "text": [
      "+------------+----------+------------------+------------------+------+\n",
      "|country_name|        id|          latitude|         longitude|   sex|\n",
      "+------------+----------+------------------+------------------+------+\n",
      "|       China| 227417393| 33.15219798270325|100.85840672174572|  Male|\n",
      "|       Haiti|6821129477|19.325567983697297|-72.43795260265814|Female|\n",
      "|       India|2078667700|23.645271492037235| 80.85636526088884|Female|\n",
      "|       China| 477556555| 33.45864668881662| 93.33604038078953|Female|\n",
      "|       India|1379059984|28.816938290678692|  80.7728698035823|Female|\n",
      "+------------+----------+------------------+------------------+------+\n",
      "\n"
     ]
    }
   ],
   "source": [
    "agents.limit(5).show()"
   ]
  },
  {
   "cell_type": "code",
   "execution_count": 23,
   "id": "7a9ea725",
   "metadata": {},
   "outputs": [
    {
     "data": {
      "text/plain": [
       "DataFrame[country_name: string, id: bigint, latitude: double, longitude: double, sex: string]"
      ]
     },
     "execution_count": 23,
     "metadata": {},
     "output_type": "execute_result"
    }
   ],
   "source": [
    "agents.persist()"
   ]
  },
  {
   "cell_type": "code",
   "execution_count": 24,
   "id": "57f9b478",
   "metadata": {},
   "outputs": [
    {
     "data": {
      "text/plain": [
       "94"
      ]
     },
     "execution_count": 24,
     "metadata": {},
     "output_type": "execute_result"
    }
   ],
   "source": [
    "agents.rdd.filter(lambda row: row.country_name == \"France\").count()"
   ]
  },
  {
   "cell_type": "markdown",
   "id": "68ae0a50",
   "metadata": {},
   "source": [
    "## 5. Create a dataframe"
   ]
  },
  {
   "cell_type": "code",
   "execution_count": 25,
   "id": "8c1543e2",
   "metadata": {},
   "outputs": [
    {
     "data": {
      "text/plain": [
       "DataFrame[name: string]"
      ]
     },
     "execution_count": 25,
     "metadata": {},
     "output_type": "execute_result"
    }
   ],
   "source": [
    "from pyspark.sql import Row\n",
    "rdd = sc.parallelize([Row(name=\"Alice\"), Row(name=\"Bob\")])\n",
    "spark.createDataFrame(rdd)"
   ]
  },
  {
   "cell_type": "code",
   "execution_count": 26,
   "id": "f17cfad6",
   "metadata": {},
   "outputs": [
    {
     "name": "stdout",
     "output_type": "stream",
     "text": [
      "+-----------------+----------+-------------------+-------------------+------+\n",
      "|     country_name|        id|           latitude|          longitude|   sex|\n",
      "+-----------------+----------+-------------------+-------------------+------+\n",
      "| French Polynesia|7170821229|-15.004219445056265|-140.01650828107668|  Male|\n",
      "|       Cabo Verde|7167692449|  16.00676587564149| -23.90898775675409|  Male|\n",
      "|         Suriname|7166451460|  4.008871704322331| -55.97275746253122|Female|\n",
      "|         Suriname|7166235088|   3.96442417744574|-56.077562332679605|Female|\n",
      "|            Macau|7166034642| 21.944944804684596| 114.02447154998114|Female|\n",
      "|       Montenegro|7164357515|  42.32131745506727| 19.168822000529843|  Male|\n",
      "|Equatorial Guinea|7163867872|  3.651402073464487|  9.913739020397387|Female|\n",
      "|           Bhutan|7163256789| 27.419739555133912|  90.29001406759927|Female|\n",
      "|           Bhutan|7163004645| 27.281480489455422|  90.17405662751794|  Male|\n",
      "|           Bhutan|7162877973|  27.37149433886258|  90.38882928596311|  Male|\n",
      "+-----------------+----------+-------------------+-------------------+------+\n",
      "\n"
     ]
    }
   ],
   "source": [
    "agents.createTempView(\"agents_table\")\n",
    "spark.sql(\"SELECT * FROM agents_table ORDER BY id DESC LIMIT 10\").show()"
   ]
  },
  {
   "cell_type": "markdown",
   "id": "6c511dc6",
   "metadata": {},
   "source": [
    "## 6. check job execution details"
   ]
  },
  {
   "cell_type": "code",
   "execution_count": 30,
   "id": "f5392903",
   "metadata": {},
   "outputs": [
    {
     "name": "stdout",
     "output_type": "stream",
     "text": [
      "http://localhost:4040/jobs/\n"
     ]
    }
   ],
   "source": [
    "print(\"http://localhost:4040/jobs/\")"
   ]
  },
  {
   "cell_type": "code",
   "execution_count": null,
   "id": "1a18eeda",
   "metadata": {},
   "outputs": [],
   "source": []
  }
 ],
 "metadata": {
  "kernelspec": {
   "display_name": "Python 3 (ipykernel)",
   "language": "python",
   "name": "python3"
  },
  "language_info": {
   "codemirror_mode": {
    "name": "ipython",
    "version": 3
   },
   "file_extension": ".py",
   "mimetype": "text/x-python",
   "name": "python",
   "nbconvert_exporter": "python",
   "pygments_lexer": "ipython3",
   "version": "3.9.12"
  }
 },
 "nbformat": 4,
 "nbformat_minor": 5
}
