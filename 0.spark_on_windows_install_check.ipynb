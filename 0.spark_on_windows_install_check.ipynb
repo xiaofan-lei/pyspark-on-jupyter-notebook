{
 "cells": [
  {
   "cell_type": "markdown",
   "id": "926cc1c6",
   "metadata": {},
   "source": [
    "# Install spark on windows -  Check"
   ]
  },
  {
   "cell_type": "markdown",
   "id": "1095b3c4",
   "metadata": {},
   "source": [
    "## 1. check environment variables"
   ]
  },
  {
   "cell_type": "code",
   "execution_count": 11,
   "id": "59f06b1b",
   "metadata": {},
   "outputs": [
    {
     "name": "stdout",
     "output_type": "stream",
     "text": [
      "C:\\Program Files\\spark-3.3.0-bin-hadoop3\\\n",
      "C:\\Program Files\\Java\\jdk-18.0.1.1\n"
     ]
    }
   ],
   "source": [
    "import os\n",
    "print(os.environ['SPARK_HOME'])\n",
    "print(os.environ['JAVA_HOME'])\n",
    "print(os.environ['PATH'])"
   ]
  },
  {
   "cell_type": "markdown",
   "id": "d028186d",
   "metadata": {},
   "source": [
    "## 2. install python library"
   ]
  },
  {
   "cell_type": "code",
   "execution_count": null,
   "id": "759ba8e7",
   "metadata": {},
   "outputs": [],
   "source": [
    "!pip install findspark"
   ]
  },
  {
   "cell_type": "code",
   "execution_count": 6,
   "id": "792b1b23",
   "metadata": {},
   "outputs": [
    {
     "data": {
      "text/plain": [
       "'C:\\\\Program Files\\\\spark-3.3.0-bin-hadoop3\\\\'"
      ]
     },
     "execution_count": 6,
     "metadata": {},
     "output_type": "execute_result"
    }
   ],
   "source": [
    "import findspark\n",
    "findspark.init()\n",
    "findspark.find()\n",
    "import pyspark\n",
    "findspark.find()"
   ]
  },
  {
   "cell_type": "markdown",
   "id": "3c58c55b",
   "metadata": {},
   "source": [
    "## 3. set up a spark session"
   ]
  },
  {
   "cell_type": "code",
   "execution_count": 8,
   "id": "133eeb3a",
   "metadata": {},
   "outputs": [],
   "source": [
    "from pyspark import SparkContext, SparkConf\n",
    "from pyspark.sql import SparkSession\n",
    "conf = pyspark.SparkConf().setAppName('appName').setMaster('local')\n",
    "#sc.stop()\n",
    "sc = pyspark.SparkContext(conf=conf)\n",
    "spark = SparkSession(sc)"
   ]
  },
  {
   "cell_type": "markdown",
   "id": "d67848b7",
   "metadata": {},
   "source": [
    "## 4. words counter by spark"
   ]
  },
  {
   "cell_type": "code",
   "execution_count": 10,
   "id": "a099f82d",
   "metadata": {},
   "outputs": [
    {
     "data": {
      "text/plain": [
       "[1, 4, 9, 16]"
      ]
     },
     "execution_count": 10,
     "metadata": {},
     "output_type": "execute_result"
    }
   ],
   "source": [
    "nums = sc.parallelize([1,2,3,4])\n",
    "nums.map(lambda x: x*x).collect()"
   ]
  },
  {
   "cell_type": "code",
   "execution_count": 5,
   "id": "6ee70319",
   "metadata": {},
   "outputs": [
    {
     "name": "stdout",
     "output_type": "stream",
     "text": [
      "Sur 8\n",
      "mes 1\n",
      "cahiers 1\n",
      "d'écolier 1\n",
      "mon 1\n",
      "pupitre 1\n",
      "et 1\n",
      "les 5\n",
      "arbres 1\n",
      "le 1\n",
      "sable 1\n",
      "de 1\n",
      "neige 1\n",
      "J'écris 3\n",
      "ton 3\n",
      "nom 3\n",
      "pages 2\n",
      "lues 1\n",
      "toutes 1\n",
      "blanches 1\n",
      "Pierre 1\n",
      "sang 1\n",
      "papier 1\n",
      "ou 1\n",
      "cendre 1\n",
      "images 1\n",
      "dorées 1\n",
      "armes 1\n",
      "des 2\n",
      "guerriers 1\n",
      "la 1\n",
      "couronne 1\n",
      "rois 1\n"
     ]
    }
   ],
   "source": [
    "lines = sc.textFile(\"text.txt\")\n",
    "\n",
    "word_counts = lines.flatMap(lambda line: line.split(' ')) \\\n",
    "                   .map(lambda word: (word, 1)) \\\n",
    "                   .reduceByKey(lambda count1, count2: count1 + count2) \\\n",
    "                   .collect()\n",
    "\n",
    "for (word, count) in word_counts:\n",
    "    print(word, count)"
   ]
  },
  {
   "cell_type": "code",
   "execution_count": null,
   "id": "f7482e24",
   "metadata": {},
   "outputs": [],
   "source": []
  }
 ],
 "metadata": {
  "kernelspec": {
   "display_name": "Python 3 (ipykernel)",
   "language": "python",
   "name": "python3"
  },
  "language_info": {
   "codemirror_mode": {
    "name": "ipython",
    "version": 3
   },
   "file_extension": ".py",
   "mimetype": "text/x-python",
   "name": "python",
   "nbconvert_exporter": "python",
   "pygments_lexer": "ipython3",
   "version": "3.9.12"
  }
 },
 "nbformat": 4,
 "nbformat_minor": 5
}
